{
  "nbformat": 4,
  "nbformat_minor": 0,
  "metadata": {
    "colab": {
      "provenance": []
    },
    "kernelspec": {
      "name": "python3",
      "display_name": "Python 3"
    },
    "language_info": {
      "name": "python"
    }
  },
  "cells": [
    {
      "cell_type": "markdown",
      "source": [
        "**BDA Project - Financial Fraud Detection**"
      ],
      "metadata": {
        "id": "2ahJj_Im6zIV"
      }
    },
    {
      "cell_type": "markdown",
      "source": [
        "**Roll No.: P23DS022 and P23DS023**"
      ],
      "metadata": {
        "id": "6Xy8oIkX64S_"
      }
    },
    {
      "cell_type": "code",
      "execution_count": null,
      "metadata": {
        "id": "_vw91mZuO223",
        "colab": {
          "base_uri": "https://localhost:8080/"
        },
        "outputId": "313ec4d3-1e10-4b6b-a6c0-6c09c775303c"
      },
      "outputs": [
        {
          "output_type": "stream",
          "name": "stdout",
          "text": [
            "Collecting pyspark\n",
            "  Downloading pyspark-3.5.1.tar.gz (317.0 MB)\n",
            "\u001b[2K     \u001b[90m━━━━━━━━━━━━━━━━━━━━━━━━━━━━━━━━━━━━━━━━\u001b[0m \u001b[32m317.0/317.0 MB\u001b[0m \u001b[31m4.5 MB/s\u001b[0m eta \u001b[36m0:00:00\u001b[0m\n",
            "\u001b[?25h  Preparing metadata (setup.py) ... \u001b[?25l\u001b[?25hdone\n",
            "Requirement already satisfied: py4j==0.10.9.7 in /usr/local/lib/python3.10/dist-packages (from pyspark) (0.10.9.7)\n",
            "Building wheels for collected packages: pyspark\n",
            "  Building wheel for pyspark (setup.py) ... \u001b[?25l\u001b[?25hdone\n",
            "  Created wheel for pyspark: filename=pyspark-3.5.1-py2.py3-none-any.whl size=317488491 sha256=93fce98a1b26d703480a800ef6639aaa3be857f2c12f04bc69da1c79a35d27ea\n",
            "  Stored in directory: /root/.cache/pip/wheels/80/1d/60/2c256ed38dddce2fdd93be545214a63e02fbd8d74fb0b7f3a6\n",
            "Successfully built pyspark\n",
            "Installing collected packages: pyspark\n",
            "Successfully installed pyspark-3.5.1\n"
          ]
        }
      ],
      "source": [
        "!pip install pyspark"
      ]
    },
    {
      "cell_type": "code",
      "source": [
        "from pyspark.sql import SparkSession\n",
        "\n",
        "import pyspark.sql.functions as F\n",
        "import pyspark.sql.types as T\n",
        "\n",
        "spark = SparkSession.builder.getOrCreate()"
      ],
      "metadata": {
        "id": "UtAEXDNrxFRE"
      },
      "execution_count": null,
      "outputs": []
    },
    {
      "cell_type": "code",
      "source": [
        "spark"
      ],
      "metadata": {
        "colab": {
          "base_uri": "https://localhost:8080/",
          "height": 219
        },
        "id": "4n2ST4rOxTJ-",
        "outputId": "e6918bb5-567f-4803-9da3-bab50e5d012c"
      },
      "execution_count": null,
      "outputs": [
        {
          "output_type": "execute_result",
          "data": {
            "text/plain": [
              "<pyspark.sql.session.SparkSession at 0x7e48100a1ea0>"
            ],
            "text/html": [
              "\n",
              "            <div>\n",
              "                <p><b>SparkSession - in-memory</b></p>\n",
              "                \n",
              "        <div>\n",
              "            <p><b>SparkContext</b></p>\n",
              "\n",
              "            <p><a href=\"http://fedfe0626e80:4040\">Spark UI</a></p>\n",
              "\n",
              "            <dl>\n",
              "              <dt>Version</dt>\n",
              "                <dd><code>v3.5.1</code></dd>\n",
              "              <dt>Master</dt>\n",
              "                <dd><code>local[*]</code></dd>\n",
              "              <dt>AppName</dt>\n",
              "                <dd><code>pyspark-shell</code></dd>\n",
              "            </dl>\n",
              "        </div>\n",
              "        \n",
              "            </div>\n",
              "        "
            ]
          },
          "metadata": {},
          "execution_count": 6
        }
      ]
    },
    {
      "cell_type": "code",
      "source": [
        "from google.colab import drive\n",
        "drive.mount(\"/content/gdrive\")"
      ],
      "metadata": {
        "colab": {
          "base_uri": "https://localhost:8080/"
        },
        "id": "3DEPY4ujgGqA",
        "outputId": "026d8902-0c8a-40a5-ce46-97165963136d"
      },
      "execution_count": null,
      "outputs": [
        {
          "output_type": "stream",
          "name": "stdout",
          "text": [
            "Mounted at /content/gdrive\n"
          ]
        }
      ]
    },
    {
      "cell_type": "code",
      "source": [
        "df = spark.read.csv('/content/gdrive/MyDrive/PS.csv', inferSchema=True, header=True)"
      ],
      "metadata": {
        "id": "KDqP3Uh1xtuj"
      },
      "execution_count": null,
      "outputs": []
    },
    {
      "cell_type": "code",
      "source": [
        "df.printSchema()"
      ],
      "metadata": {
        "colab": {
          "base_uri": "https://localhost:8080/"
        },
        "id": "8r9jSx5Xz52a",
        "outputId": "b84dd32e-12ba-4d48-de89-96485d421509"
      },
      "execution_count": null,
      "outputs": [
        {
          "output_type": "stream",
          "name": "stdout",
          "text": [
            "root\n",
            " |-- step: integer (nullable = true)\n",
            " |-- type: string (nullable = true)\n",
            " |-- amount: double (nullable = true)\n",
            " |-- nameOrig: string (nullable = true)\n",
            " |-- oldbalanceOrg: double (nullable = true)\n",
            " |-- newbalanceOrig: double (nullable = true)\n",
            " |-- nameDest: string (nullable = true)\n",
            " |-- oldbalanceDest: double (nullable = true)\n",
            " |-- newbalanceDest: double (nullable = true)\n",
            " |-- isFraud: integer (nullable = true)\n",
            " |-- isFlaggedFraud: integer (nullable = true)\n",
            "\n"
          ]
        }
      ]
    },
    {
      "cell_type": "code",
      "source": [
        "df.show(2)"
      ],
      "metadata": {
        "colab": {
          "base_uri": "https://localhost:8080/"
        },
        "id": "Kg1taKPkz-Hm",
        "outputId": "935c560a-c0e5-4211-9369-695cc0a0d733"
      },
      "execution_count": null,
      "outputs": [
        {
          "output_type": "stream",
          "name": "stdout",
          "text": [
            "+----+-------+-------+-----------+-------------+--------------+-----------+--------------+--------------+-------+--------------+\n",
            "|step|   type| amount|   nameOrig|oldbalanceOrg|newbalanceOrig|   nameDest|oldbalanceDest|newbalanceDest|isFraud|isFlaggedFraud|\n",
            "+----+-------+-------+-----------+-------------+--------------+-----------+--------------+--------------+-------+--------------+\n",
            "|   1|PAYMENT|9839.64|C1231006815|     170136.0|     160296.36|M1979787155|           0.0|           0.0|      0|             0|\n",
            "|   1|PAYMENT|1864.28|C1666544295|      21249.0|      19384.72|M2044282225|           0.0|           0.0|      0|             0|\n",
            "+----+-------+-------+-----------+-------------+--------------+-----------+--------------+--------------+-------+--------------+\n",
            "only showing top 2 rows\n",
            "\n"
          ]
        }
      ]
    },
    {
      "cell_type": "code",
      "source": [
        "df = df.select(\"type\", \"amount\", \"oldbalanceOrg\", \"newbalanceOrig\", \"isFraud\")"
      ],
      "metadata": {
        "id": "mWdXN8Ly0AHc"
      },
      "execution_count": null,
      "outputs": []
    },
    {
      "cell_type": "code",
      "source": [
        "df.show(2)"
      ],
      "metadata": {
        "colab": {
          "base_uri": "https://localhost:8080/"
        },
        "id": "EiEECaTO0AKT",
        "outputId": "f5a10088-beb3-4006-c692-4a747e876114"
      },
      "execution_count": null,
      "outputs": [
        {
          "output_type": "stream",
          "name": "stdout",
          "text": [
            "+-------+-------+-------------+--------------+-------+\n",
            "|   type| amount|oldbalanceOrg|newbalanceOrig|isFraud|\n",
            "+-------+-------+-------------+--------------+-------+\n",
            "|PAYMENT|9839.64|     170136.0|     160296.36|      0|\n",
            "|PAYMENT|1864.28|      21249.0|      19384.72|      0|\n",
            "+-------+-------+-------------+--------------+-------+\n",
            "only showing top 2 rows\n",
            "\n"
          ]
        }
      ]
    },
    {
      "cell_type": "code",
      "source": [
        "df.printSchema()"
      ],
      "metadata": {
        "colab": {
          "base_uri": "https://localhost:8080/"
        },
        "id": "epmQJtbx0ANu",
        "outputId": "cb92cc58-4e54-4d21-b98d-a7c3504ea7ad"
      },
      "execution_count": null,
      "outputs": [
        {
          "output_type": "stream",
          "name": "stdout",
          "text": [
            "root\n",
            " |-- type: string (nullable = true)\n",
            " |-- amount: double (nullable = true)\n",
            " |-- oldbalanceOrg: double (nullable = true)\n",
            " |-- newbalanceOrig: double (nullable = true)\n",
            " |-- isFraud: integer (nullable = true)\n",
            "\n"
          ]
        }
      ]
    },
    {
      "cell_type": "code",
      "source": [
        "(df.count() , len(df.columns))"
      ],
      "metadata": {
        "colab": {
          "base_uri": "https://localhost:8080/"
        },
        "id": "itiYgSJ70AQU",
        "outputId": "e9a80a92-24a2-4dc8-a7dd-fb0080599ceb"
      },
      "execution_count": null,
      "outputs": [
        {
          "output_type": "execute_result",
          "data": {
            "text/plain": [
              "(6362620, 5)"
            ]
          },
          "metadata": {},
          "execution_count": 13
        }
      ]
    },
    {
      "cell_type": "code",
      "source": [
        "df.select('amount','oldbalanceOrg','newbalanceOrig','isFraud').describe().show()"
      ],
      "metadata": {
        "colab": {
          "base_uri": "https://localhost:8080/"
        },
        "id": "kKsm14XG0AYX",
        "outputId": "6707e0b1-cae5-4dc9-e7e0-3590769f3c5d"
      },
      "execution_count": null,
      "outputs": [
        {
          "output_type": "stream",
          "name": "stdout",
          "text": [
            "+-------+-----------------+-----------------+------------------+--------------------+\n",
            "|summary|           amount|    oldbalanceOrg|    newbalanceOrig|             isFraud|\n",
            "+-------+-----------------+-----------------+------------------+--------------------+\n",
            "|  count|          6362620|          6362620|           6362620|             6362620|\n",
            "|   mean|179861.9035491287|833883.1040744764| 855113.6685785812|0.001290820448180152|\n",
            "| stddev|603858.2314629209|2888242.673037527|2924048.5029542595|0.035904796801604424|\n",
            "|    min|              0.0|              0.0|               0.0|                   0|\n",
            "|    max|    9.244551664E7|    5.958504037E7|     4.958504037E7|                   1|\n",
            "+-------+-----------------+-----------------+------------------+--------------------+\n",
            "\n"
          ]
        }
      ]
    },
    {
      "cell_type": "code",
      "source": [
        "data_agg = df.agg(*[F.count(F.when(F.isnull(c), c)).alias(c) for c in df.columns])\n",
        "data_agg.show()"
      ],
      "metadata": {
        "colab": {
          "base_uri": "https://localhost:8080/"
        },
        "id": "PjfWUaYO0AbI",
        "outputId": "0b0cc358-f6b9-45c4-ec22-f80464a61062"
      },
      "execution_count": null,
      "outputs": [
        {
          "output_type": "stream",
          "name": "stdout",
          "text": [
            "+----+------+-------------+--------------+-------+\n",
            "|type|amount|oldbalanceOrg|newbalanceOrig|isFraud|\n",
            "+----+------+-------------+--------------+-------+\n",
            "|   0|     0|            0|             0|      0|\n",
            "+----+------+-------------+--------------+-------+\n",
            "\n"
          ]
        }
      ]
    },
    {
      "cell_type": "code",
      "source": [
        "# value counts of Type column\n",
        "df.groupBy('type').count().show()"
      ],
      "metadata": {
        "colab": {
          "base_uri": "https://localhost:8080/"
        },
        "id": "goLVpDep0Adz",
        "outputId": "d3985525-1620-4d94-e60d-df8c63a4b3e5"
      },
      "execution_count": null,
      "outputs": [
        {
          "output_type": "stream",
          "name": "stdout",
          "text": [
            "+--------+-------+\n",
            "|    type|  count|\n",
            "+--------+-------+\n",
            "|TRANSFER| 532909|\n",
            "| CASH_IN|1399284|\n",
            "|CASH_OUT|2237500|\n",
            "| PAYMENT|2151495|\n",
            "|   DEBIT|  41432|\n",
            "+--------+-------+\n",
            "\n"
          ]
        }
      ]
    },
    {
      "cell_type": "code",
      "source": [
        "train, test = df.randomSplit([0.7, 0.3], seed=7)"
      ],
      "metadata": {
        "id": "2zzXxVQI0Agr"
      },
      "execution_count": null,
      "outputs": []
    },
    {
      "cell_type": "code",
      "source": [
        "print(f\"Train set length: {train.count()} records\")\n",
        "print(f\"Test set length: {test.count()} records\")"
      ],
      "metadata": {
        "colab": {
          "base_uri": "https://localhost:8080/"
        },
        "id": "fKTY5rUj0Aj7",
        "outputId": "3d2ad347-002f-41da-fd02-e7663f8fe593"
      },
      "execution_count": null,
      "outputs": [
        {
          "output_type": "stream",
          "name": "stdout",
          "text": [
            "Train set length: 4451490 records\n",
            "Test set length: 1911130 records\n"
          ]
        }
      ]
    },
    {
      "cell_type": "code",
      "source": [
        "train.show(2)"
      ],
      "metadata": {
        "colab": {
          "base_uri": "https://localhost:8080/"
        },
        "id": "U-vN8ywp0n9R",
        "outputId": "bce393ad-9412-4a4a-b300-6d0ce0bef676"
      },
      "execution_count": null,
      "outputs": [
        {
          "output_type": "stream",
          "name": "stdout",
          "text": [
            "+-------+------+-------------+--------------+-------+\n",
            "|   type|amount|oldbalanceOrg|newbalanceOrig|isFraud|\n",
            "+-------+------+-------------+--------------+-------+\n",
            "|CASH_IN|  1.42|   1270713.41|    1270714.83|      0|\n",
            "|CASH_IN|  4.35|   4136277.22|    4136281.57|      0|\n",
            "+-------+------+-------------+--------------+-------+\n",
            "only showing top 2 rows\n",
            "\n"
          ]
        }
      ]
    },
    {
      "cell_type": "code",
      "source": [
        "train.dtypes"
      ],
      "metadata": {
        "colab": {
          "base_uri": "https://localhost:8080/"
        },
        "id": "9xkhdDmQ0oAS",
        "outputId": "57e67f05-e5f3-404f-b184-23606a1f5a15"
      },
      "execution_count": null,
      "outputs": [
        {
          "output_type": "execute_result",
          "data": {
            "text/plain": [
              "[('type', 'string'),\n",
              " ('amount', 'double'),\n",
              " ('oldbalanceOrg', 'double'),\n",
              " ('newbalanceOrig', 'double'),\n",
              " ('isFraud', 'int')]"
            ]
          },
          "metadata": {},
          "execution_count": 20
        }
      ]
    },
    {
      "cell_type": "code",
      "source": [
        "catCols = [x for (x, dataType) in train.dtypes if dataType == \"string\"]\n",
        "numCols = [ x for (x, dataType) in train.dtypes if (dataType == \"double\") ]"
      ],
      "metadata": {
        "id": "i9J224aA0oDP"
      },
      "execution_count": null,
      "outputs": []
    },
    {
      "cell_type": "code",
      "source": [
        "print(numCols)\n",
        "print(catCols)"
      ],
      "metadata": {
        "colab": {
          "base_uri": "https://localhost:8080/"
        },
        "id": "N4ujzWIF0oF-",
        "outputId": "8b9cc51c-e9b6-4b26-d0c1-891ae1e24cb4"
      },
      "execution_count": null,
      "outputs": [
        {
          "output_type": "stream",
          "name": "stdout",
          "text": [
            "['amount', 'oldbalanceOrg', 'newbalanceOrig']\n",
            "['type']\n"
          ]
        }
      ]
    },
    {
      "cell_type": "code",
      "source": [
        "train.agg(F.countDistinct(\"type\")).show()"
      ],
      "metadata": {
        "colab": {
          "base_uri": "https://localhost:8080/"
        },
        "id": "-Z8_5fTb0oJR",
        "outputId": "fa4a45d8-1352-48db-82b3-35e36c8faef7"
      },
      "execution_count": null,
      "outputs": [
        {
          "output_type": "stream",
          "name": "stdout",
          "text": [
            "+--------------------+\n",
            "|count(DISTINCT type)|\n",
            "+--------------------+\n",
            "|                   5|\n",
            "+--------------------+\n",
            "\n"
          ]
        }
      ]
    },
    {
      "cell_type": "code",
      "source": [
        "train.groupBy(\"type\").count().show()"
      ],
      "metadata": {
        "colab": {
          "base_uri": "https://localhost:8080/"
        },
        "id": "euYEkMzB0oL4",
        "outputId": "2ac5afda-e7b1-40c7-e3ad-8c9340938fe1"
      },
      "execution_count": null,
      "outputs": [
        {
          "output_type": "stream",
          "name": "stdout",
          "text": [
            "+--------+-------+\n",
            "|    type|  count|\n",
            "+--------+-------+\n",
            "|TRANSFER| 373084|\n",
            "| CASH_IN| 979536|\n",
            "|CASH_OUT|1566112|\n",
            "| PAYMENT|1503731|\n",
            "|   DEBIT|  29027|\n",
            "+--------+-------+\n",
            "\n"
          ]
        }
      ]
    },
    {
      "cell_type": "code",
      "source": [
        "from pyspark.ml.feature import (\n",
        "    OneHotEncoder,\n",
        "    StringIndexer,\n",
        ")"
      ],
      "metadata": {
        "id": "83xjId4w0oOy"
      },
      "execution_count": null,
      "outputs": []
    },
    {
      "cell_type": "code",
      "source": [
        "#catCols are the cols with string\n",
        "string_indexer = [\n",
        "    StringIndexer(inputCol=x, outputCol=x + \"_StringIndexer\", handleInvalid=\"skip\")\n",
        "    for x in catCols\n",
        "]"
      ],
      "metadata": {
        "id": "MtyRwOO80oSC"
      },
      "execution_count": null,
      "outputs": []
    },
    {
      "cell_type": "code",
      "source": [
        "string_indexe=string_indexer[0].fit(df).transform(df)\n",
        "string_indexe.show()"
      ],
      "metadata": {
        "colab": {
          "base_uri": "https://localhost:8080/"
        },
        "id": "GuINE8ug0oUf",
        "outputId": "4f1e5793-2a2a-49e3-92b9-769ab210ebe0"
      },
      "execution_count": null,
      "outputs": [
        {
          "output_type": "stream",
          "name": "stdout",
          "text": [
            "+--------+---------+-------------+--------------+-------+------------------+\n",
            "|    type|   amount|oldbalanceOrg|newbalanceOrig|isFraud|type_StringIndexer|\n",
            "+--------+---------+-------------+--------------+-------+------------------+\n",
            "| PAYMENT|  9839.64|     170136.0|     160296.36|      0|               1.0|\n",
            "| PAYMENT|  1864.28|      21249.0|      19384.72|      0|               1.0|\n",
            "|TRANSFER|    181.0|        181.0|           0.0|      1|               3.0|\n",
            "|CASH_OUT|    181.0|        181.0|           0.0|      1|               0.0|\n",
            "| PAYMENT| 11668.14|      41554.0|      29885.86|      0|               1.0|\n",
            "| PAYMENT|  7817.71|      53860.0|      46042.29|      0|               1.0|\n",
            "| PAYMENT|  7107.77|     183195.0|     176087.23|      0|               1.0|\n",
            "| PAYMENT|  7861.64|    176087.23|     168225.59|      0|               1.0|\n",
            "| PAYMENT|  4024.36|       2671.0|           0.0|      0|               1.0|\n",
            "|   DEBIT|  5337.77|      41720.0|      36382.23|      0|               4.0|\n",
            "|   DEBIT|  9644.94|       4465.0|           0.0|      0|               4.0|\n",
            "| PAYMENT|  3099.97|      20771.0|      17671.03|      0|               1.0|\n",
            "| PAYMENT|  2560.74|       5070.0|       2509.26|      0|               1.0|\n",
            "| PAYMENT| 11633.76|      10127.0|           0.0|      0|               1.0|\n",
            "| PAYMENT|  4098.78|     503264.0|     499165.22|      0|               1.0|\n",
            "|CASH_OUT|229133.94|      15325.0|           0.0|      0|               0.0|\n",
            "| PAYMENT|  1563.82|        450.0|           0.0|      0|               1.0|\n",
            "| PAYMENT|  1157.86|      21156.0|      19998.14|      0|               1.0|\n",
            "| PAYMENT|   671.64|      15123.0|      14451.36|      0|               1.0|\n",
            "|TRANSFER| 215310.3|        705.0|           0.0|      0|               3.0|\n",
            "+--------+---------+-------------+--------------+-------+------------------+\n",
            "only showing top 20 rows\n",
            "\n"
          ]
        }
      ]
    },
    {
      "cell_type": "code",
      "source": [
        "one_hot_encoder = [\n",
        "    OneHotEncoder(\n",
        "        inputCols=[f\"{x}_StringIndexer\" for x in catCols],\n",
        "        outputCols=[f\"{x}_OneHotEncoder\" for x in catCols],\n",
        "    )\n",
        "]"
      ],
      "metadata": {
        "id": "2LmSsMTD0Amv"
      },
      "execution_count": null,
      "outputs": []
    },
    {
      "cell_type": "code",
      "source": [
        "one_hot_encoder_df=one_hot_encoder[0].fit(string_indexe).transform(string_indexe)\n",
        "one_hot_encoder_df.show()"
      ],
      "metadata": {
        "colab": {
          "base_uri": "https://localhost:8080/"
        },
        "id": "NgYuAtDd1dIJ",
        "outputId": "ba973868-27b2-4fc6-ddd6-20cd947eb079"
      },
      "execution_count": null,
      "outputs": [
        {
          "output_type": "stream",
          "name": "stdout",
          "text": [
            "+--------+---------+-------------+--------------+-------+------------------+------------------+\n",
            "|    type|   amount|oldbalanceOrg|newbalanceOrig|isFraud|type_StringIndexer|type_OneHotEncoder|\n",
            "+--------+---------+-------------+--------------+-------+------------------+------------------+\n",
            "| PAYMENT|  9839.64|     170136.0|     160296.36|      0|               1.0|     (4,[1],[1.0])|\n",
            "| PAYMENT|  1864.28|      21249.0|      19384.72|      0|               1.0|     (4,[1],[1.0])|\n",
            "|TRANSFER|    181.0|        181.0|           0.0|      1|               3.0|     (4,[3],[1.0])|\n",
            "|CASH_OUT|    181.0|        181.0|           0.0|      1|               0.0|     (4,[0],[1.0])|\n",
            "| PAYMENT| 11668.14|      41554.0|      29885.86|      0|               1.0|     (4,[1],[1.0])|\n",
            "| PAYMENT|  7817.71|      53860.0|      46042.29|      0|               1.0|     (4,[1],[1.0])|\n",
            "| PAYMENT|  7107.77|     183195.0|     176087.23|      0|               1.0|     (4,[1],[1.0])|\n",
            "| PAYMENT|  7861.64|    176087.23|     168225.59|      0|               1.0|     (4,[1],[1.0])|\n",
            "| PAYMENT|  4024.36|       2671.0|           0.0|      0|               1.0|     (4,[1],[1.0])|\n",
            "|   DEBIT|  5337.77|      41720.0|      36382.23|      0|               4.0|         (4,[],[])|\n",
            "|   DEBIT|  9644.94|       4465.0|           0.0|      0|               4.0|         (4,[],[])|\n",
            "| PAYMENT|  3099.97|      20771.0|      17671.03|      0|               1.0|     (4,[1],[1.0])|\n",
            "| PAYMENT|  2560.74|       5070.0|       2509.26|      0|               1.0|     (4,[1],[1.0])|\n",
            "| PAYMENT| 11633.76|      10127.0|           0.0|      0|               1.0|     (4,[1],[1.0])|\n",
            "| PAYMENT|  4098.78|     503264.0|     499165.22|      0|               1.0|     (4,[1],[1.0])|\n",
            "|CASH_OUT|229133.94|      15325.0|           0.0|      0|               0.0|     (4,[0],[1.0])|\n",
            "| PAYMENT|  1563.82|        450.0|           0.0|      0|               1.0|     (4,[1],[1.0])|\n",
            "| PAYMENT|  1157.86|      21156.0|      19998.14|      0|               1.0|     (4,[1],[1.0])|\n",
            "| PAYMENT|   671.64|      15123.0|      14451.36|      0|               1.0|     (4,[1],[1.0])|\n",
            "|TRANSFER| 215310.3|        705.0|           0.0|      0|               3.0|     (4,[3],[1.0])|\n",
            "+--------+---------+-------------+--------------+-------+------------------+------------------+\n",
            "only showing top 20 rows\n",
            "\n"
          ]
        }
      ]
    },
    {
      "cell_type": "code",
      "source": [
        "from pyspark.ml.feature import VectorAssembler"
      ],
      "metadata": {
        "id": "ex9SmK-41duN"
      },
      "execution_count": null,
      "outputs": []
    },
    {
      "cell_type": "code",
      "source": [
        "assemblerInput = [x for x in numCols]\n",
        "assemblerInput += [f\"{x}_OneHotEncoder\" for x in catCols]"
      ],
      "metadata": {
        "id": "1INRpMlY1dxU"
      },
      "execution_count": null,
      "outputs": []
    },
    {
      "cell_type": "code",
      "source": [
        "assemblerInput"
      ],
      "metadata": {
        "colab": {
          "base_uri": "https://localhost:8080/"
        },
        "id": "6bkHfQsD1d0N",
        "outputId": "845bdc49-f73b-45e1-f455-193fdc10cf3e"
      },
      "execution_count": null,
      "outputs": [
        {
          "output_type": "execute_result",
          "data": {
            "text/plain": [
              "['amount', 'oldbalanceOrg', 'newbalanceOrig', 'type_OneHotEncoder']"
            ]
          },
          "metadata": {},
          "execution_count": 32
        }
      ]
    },
    {
      "cell_type": "code",
      "source": [
        "vector_assembler = VectorAssembler(\n",
        "    inputCols=assemblerInput, outputCol=\"VectorAssembler_features\"\n",
        ")"
      ],
      "metadata": {
        "id": "h0XcfoMZ1d3T"
      },
      "execution_count": null,
      "outputs": []
    },
    {
      "cell_type": "code",
      "source": [
        "stages = []\n",
        "stages += string_indexer\n",
        "stages += one_hot_encoder\n",
        "stages += [vector_assembler]"
      ],
      "metadata": {
        "id": "ys5YlIKZ1d6s"
      },
      "execution_count": null,
      "outputs": []
    },
    {
      "cell_type": "code",
      "source": [
        "stages"
      ],
      "metadata": {
        "colab": {
          "base_uri": "https://localhost:8080/"
        },
        "id": "xXR6rvti1d-A",
        "outputId": "e36a6aef-c4b2-489b-9f14-47058a372ac0"
      },
      "execution_count": null,
      "outputs": [
        {
          "output_type": "execute_result",
          "data": {
            "text/plain": [
              "[StringIndexer_8baeb40af947,\n",
              " OneHotEncoder_ea8d294b134a,\n",
              " VectorAssembler_f44658556149]"
            ]
          },
          "metadata": {},
          "execution_count": 35
        }
      ]
    },
    {
      "cell_type": "code",
      "source": [
        "from pyspark.ml import Pipeline\n",
        "\n",
        "pipeline = Pipeline().setStages(stages)\n",
        "model = pipeline.fit(train)\n",
        "\n",
        "pp_df = model.transform(train)"
      ],
      "metadata": {
        "id": "Dq6c8u1h1eAr"
      },
      "execution_count": null,
      "outputs": []
    },
    {
      "cell_type": "code",
      "source": [
        "pp_df.select(\n",
        "    \"type\", \"amount\", \"oldbalanceOrg\", \"newbalanceOrig\", \"VectorAssembler_features\",\n",
        ").show(truncate=False)"
      ],
      "metadata": {
        "colab": {
          "base_uri": "https://localhost:8080/"
        },
        "id": "H7muZ1b3iK67",
        "outputId": "2068519b-5971-4f4f-c81f-3bcf892a4ff5"
      },
      "execution_count": null,
      "outputs": [
        {
          "output_type": "stream",
          "name": "stdout",
          "text": [
            "+-------+------+-------------+--------------+--------------------------------------------------+\n",
            "|type   |amount|oldbalanceOrg|newbalanceOrig|VectorAssembler_features                          |\n",
            "+-------+------+-------------+--------------+--------------------------------------------------+\n",
            "|CASH_IN|1.42  |1270713.41   |1270714.83    |[1.42,1270713.41,1270714.83,0.0,0.0,1.0,0.0]      |\n",
            "|CASH_IN|4.35  |4136277.22   |4136281.57    |[4.35,4136277.22,4136281.57,0.0,0.0,1.0,0.0]      |\n",
            "|CASH_IN|4.71  |50198.0      |50202.71      |[4.71,50198.0,50202.71,0.0,0.0,1.0,0.0]           |\n",
            "|CASH_IN|5.19  |18104.0      |18109.19      |[5.19,18104.0,18109.19,0.0,0.0,1.0,0.0]           |\n",
            "|CASH_IN|5.66  |5061561.06   |5061566.72    |[5.66,5061561.06,5061566.72,0.0,0.0,1.0,0.0]      |\n",
            "|CASH_IN|6.5   |1696433.45   |1696439.95    |[6.5,1696433.45,1696439.95,0.0,0.0,1.0,0.0]       |\n",
            "|CASH_IN|8.29  |20392.0      |20400.29      |[8.29,20392.0,20400.29,0.0,0.0,1.0,0.0]           |\n",
            "|CASH_IN|9.02  |2416260.59   |2416269.61    |[9.02,2416260.59,2416269.61,0.0,0.0,1.0,0.0]      |\n",
            "|CASH_IN|9.22  |7730148.9    |7730158.12    |[9.22,7730148.9,7730158.12,0.0,0.0,1.0,0.0]       |\n",
            "|CASH_IN|12.18 |299322.0     |299334.18     |[12.18,299322.0,299334.18,0.0,0.0,1.0,0.0]        |\n",
            "|CASH_IN|13.2  |106204.0     |106217.2      |[13.2,106204.0,106217.2,0.0,0.0,1.0,0.0]          |\n",
            "|CASH_IN|13.86 |6868100.18   |6868114.04    |[13.86,6868100.18,6868114.04,0.0,0.0,1.0,0.0]     |\n",
            "|CASH_IN|15.59 |1.64294897E7 |1.642950528E7 |[15.59,1.64294897E7,1.642950528E7,0.0,0.0,1.0,0.0]|\n",
            "|CASH_IN|16.3  |2.140511936E7|2.140513566E7 |[16.3,2.140511936E7,2.140513566E7,0.0,0.0,1.0,0.0]|\n",
            "|CASH_IN|16.89 |0.0          |16.89         |(7,[0,2,5],[16.89,16.89,1.0])                     |\n",
            "|CASH_IN|18.53 |951352.78    |951371.31     |[18.53,951352.78,951371.31,0.0,0.0,1.0,0.0]       |\n",
            "|CASH_IN|20.34 |991344.41    |991364.74     |[20.34,991344.41,991364.74,0.0,0.0,1.0,0.0]       |\n",
            "|CASH_IN|21.15 |2729078.29   |2729099.44    |[21.15,2729078.29,2729099.44,0.0,0.0,1.0,0.0]     |\n",
            "|CASH_IN|21.57 |104362.0     |104383.57     |[21.57,104362.0,104383.57,0.0,0.0,1.0,0.0]        |\n",
            "|CASH_IN|22.81 |875946.0     |875968.82     |[22.81,875946.0,875968.82,0.0,0.0,1.0,0.0]        |\n",
            "+-------+------+-------------+--------------+--------------------------------------------------+\n",
            "only showing top 20 rows\n",
            "\n"
          ]
        }
      ]
    },
    {
      "cell_type": "code",
      "source": [
        "pp_df.show()"
      ],
      "metadata": {
        "colab": {
          "base_uri": "https://localhost:8080/"
        },
        "id": "ksuzGUN2iK0f",
        "outputId": "7f2edd7f-ed79-432b-dcff-f3bcc527d8fb"
      },
      "execution_count": null,
      "outputs": [
        {
          "output_type": "stream",
          "name": "stdout",
          "text": [
            "+-------+------+-------------+--------------+-------+------------------+------------------+------------------------+\n",
            "|   type|amount|oldbalanceOrg|newbalanceOrig|isFraud|type_StringIndexer|type_OneHotEncoder|VectorAssembler_features|\n",
            "+-------+------+-------------+--------------+-------+------------------+------------------+------------------------+\n",
            "|CASH_IN|  1.42|   1270713.41|    1270714.83|      0|               2.0|     (4,[2],[1.0])|    [1.42,1270713.41,...|\n",
            "|CASH_IN|  4.35|   4136277.22|    4136281.57|      0|               2.0|     (4,[2],[1.0])|    [4.35,4136277.22,...|\n",
            "|CASH_IN|  4.71|      50198.0|      50202.71|      0|               2.0|     (4,[2],[1.0])|    [4.71,50198.0,502...|\n",
            "|CASH_IN|  5.19|      18104.0|      18109.19|      0|               2.0|     (4,[2],[1.0])|    [5.19,18104.0,181...|\n",
            "|CASH_IN|  5.66|   5061561.06|    5061566.72|      0|               2.0|     (4,[2],[1.0])|    [5.66,5061561.06,...|\n",
            "|CASH_IN|   6.5|   1696433.45|    1696439.95|      0|               2.0|     (4,[2],[1.0])|    [6.5,1696433.45,1...|\n",
            "|CASH_IN|  8.29|      20392.0|      20400.29|      0|               2.0|     (4,[2],[1.0])|    [8.29,20392.0,204...|\n",
            "|CASH_IN|  9.02|   2416260.59|    2416269.61|      0|               2.0|     (4,[2],[1.0])|    [9.02,2416260.59,...|\n",
            "|CASH_IN|  9.22|    7730148.9|    7730158.12|      0|               2.0|     (4,[2],[1.0])|    [9.22,7730148.9,7...|\n",
            "|CASH_IN| 12.18|     299322.0|     299334.18|      0|               2.0|     (4,[2],[1.0])|    [12.18,299322.0,2...|\n",
            "|CASH_IN|  13.2|     106204.0|      106217.2|      0|               2.0|     (4,[2],[1.0])|    [13.2,106204.0,10...|\n",
            "|CASH_IN| 13.86|   6868100.18|    6868114.04|      0|               2.0|     (4,[2],[1.0])|    [13.86,6868100.18...|\n",
            "|CASH_IN| 15.59| 1.64294897E7| 1.642950528E7|      0|               2.0|     (4,[2],[1.0])|    [15.59,1.64294897...|\n",
            "|CASH_IN|  16.3|2.140511936E7| 2.140513566E7|      0|               2.0|     (4,[2],[1.0])|    [16.3,2.140511936...|\n",
            "|CASH_IN| 16.89|          0.0|         16.89|      0|               2.0|     (4,[2],[1.0])|    (7,[0,2,5],[16.89...|\n",
            "|CASH_IN| 18.53|    951352.78|     951371.31|      0|               2.0|     (4,[2],[1.0])|    [18.53,951352.78,...|\n",
            "|CASH_IN| 20.34|    991344.41|     991364.74|      0|               2.0|     (4,[2],[1.0])|    [20.34,991344.41,...|\n",
            "|CASH_IN| 21.15|   2729078.29|    2729099.44|      0|               2.0|     (4,[2],[1.0])|    [21.15,2729078.29...|\n",
            "|CASH_IN| 21.57|     104362.0|     104383.57|      0|               2.0|     (4,[2],[1.0])|    [21.57,104362.0,1...|\n",
            "|CASH_IN| 22.81|     875946.0|     875968.82|      0|               2.0|     (4,[2],[1.0])|    [22.81,875946.0,8...|\n",
            "+-------+------+-------------+--------------+-------+------------------+------------------+------------------------+\n",
            "only showing top 20 rows\n",
            "\n"
          ]
        }
      ]
    },
    {
      "cell_type": "code",
      "source": [
        "test.count()"
      ],
      "metadata": {
        "colab": {
          "base_uri": "https://localhost:8080/"
        },
        "id": "JDnFDnNeiKll",
        "outputId": "df01515e-305e-4634-f405-61948731a5c4"
      },
      "execution_count": null,
      "outputs": [
        {
          "output_type": "execute_result",
          "data": {
            "text/plain": [
              "1911130"
            ]
          },
          "metadata": {},
          "execution_count": 39
        }
      ]
    },
    {
      "cell_type": "code",
      "source": [
        "df_test=test.where(test.isFraud == 1)"
      ],
      "metadata": {
        "id": "81uc1L-viKiy"
      },
      "execution_count": null,
      "outputs": []
    },
    {
      "cell_type": "code",
      "source": [
        "df_test.show()"
      ],
      "metadata": {
        "colab": {
          "base_uri": "https://localhost:8080/"
        },
        "id": "0EfRFFQFiWRC",
        "outputId": "9afcc0dd-2f9a-4480-e100-6927772a3d5f"
      },
      "execution_count": null,
      "outputs": [
        {
          "output_type": "stream",
          "name": "stdout",
          "text": [
            "+--------+--------+-------------+--------------+-------+\n",
            "|    type|  amount|oldbalanceOrg|newbalanceOrig|isFraud|\n",
            "+--------+--------+-------------+--------------+-------+\n",
            "|CASH_OUT|   119.0|        119.0|           0.0|      1|\n",
            "|CASH_OUT|   181.0|        181.0|           0.0|      1|\n",
            "|CASH_OUT|  215.83|       215.83|           0.0|      1|\n",
            "|CASH_OUT|   636.0|        636.0|           0.0|      1|\n",
            "|CASH_OUT|  1055.0|       1055.0|           0.0|      1|\n",
            "|CASH_OUT|  1842.0|       1842.0|           0.0|      1|\n",
            "|CASH_OUT|  2007.0|       2007.0|           0.0|      1|\n",
            "|CASH_OUT|  2806.0|       2806.0|           0.0|      1|\n",
            "|CASH_OUT| 4120.14|      4120.14|           0.0|      1|\n",
            "|CASH_OUT| 4289.18|      4289.18|           0.0|      1|\n",
            "|CASH_OUT| 7927.06|      7927.06|           0.0|      1|\n",
            "|CASH_OUT| 8055.06|      8055.06|           0.0|      1|\n",
            "|CASH_OUT| 8383.17|      8383.17|           0.0|      1|\n",
            "|CASH_OUT|  9131.0|       9131.0|           0.0|      1|\n",
            "|CASH_OUT| 9217.19|      9217.19|           0.0|      1|\n",
            "|CASH_OUT|10119.47|     10119.47|           0.0|      1|\n",
            "|CASH_OUT| 10565.0|      10565.0|           0.0|      1|\n",
            "|CASH_OUT| 11385.0|      11385.0|           0.0|      1|\n",
            "|CASH_OUT|14016.65|     14016.65|           0.0|      1|\n",
            "|CASH_OUT|14949.84|     14949.84|           0.0|      1|\n",
            "+--------+--------+-------------+--------------+-------+\n",
            "only showing top 20 rows\n",
            "\n"
          ]
        }
      ]
    },
    {
      "cell_type": "markdown",
      "source": [
        "Logistic Regression"
      ],
      "metadata": {
        "id": "4hPaHX6KilQf"
      }
    },
    {
      "cell_type": "code",
      "source": [
        "from pyspark.ml.classification import LogisticRegression"
      ],
      "metadata": {
        "id": "ipH3Erk3ingV"
      },
      "execution_count": null,
      "outputs": []
    },
    {
      "cell_type": "code",
      "source": [
        "data = pp_df.select(\n",
        "    F.col(\"VectorAssembler_features\").alias(\"features\"),\n",
        "    F.col(\"isFraud\").alias(\"label\"),\n",
        ")"
      ],
      "metadata": {
        "id": "4ml6kqZbitMR"
      },
      "execution_count": null,
      "outputs": []
    },
    {
      "cell_type": "code",
      "source": [
        "data.show(5, truncate=False)"
      ],
      "metadata": {
        "colab": {
          "base_uri": "https://localhost:8080/"
        },
        "id": "ijX-BMyJizsY",
        "outputId": "631ce0d3-8b7f-4b27-d383-fdff7cb23b68"
      },
      "execution_count": null,
      "outputs": [
        {
          "output_type": "stream",
          "name": "stdout",
          "text": [
            "+--------------------------------------------+-----+\n",
            "|features                                    |label|\n",
            "+--------------------------------------------+-----+\n",
            "|[1.42,1270713.41,1270714.83,0.0,0.0,1.0,0.0]|0    |\n",
            "|[4.35,4136277.22,4136281.57,0.0,0.0,1.0,0.0]|0    |\n",
            "|[4.71,50198.0,50202.71,0.0,0.0,1.0,0.0]     |0    |\n",
            "|[5.19,18104.0,18109.19,0.0,0.0,1.0,0.0]     |0    |\n",
            "|[5.66,5061561.06,5061566.72,0.0,0.0,1.0,0.0]|0    |\n",
            "+--------------------------------------------+-----+\n",
            "only showing top 5 rows\n",
            "\n"
          ]
        }
      ]
    },
    {
      "cell_type": "code",
      "source": [
        "model = LogisticRegression().fit(data)\n",
        "data=model.transform(data)"
      ],
      "metadata": {
        "id": "sxQExCBbizph"
      },
      "execution_count": null,
      "outputs": []
    },
    {
      "cell_type": "code",
      "source": [
        "data.show()"
      ],
      "metadata": {
        "colab": {
          "base_uri": "https://localhost:8080/"
        },
        "id": "gPehEReyizm3",
        "outputId": "faec3692-856d-4cb7-faa6-3cfc4cce5bc7"
      },
      "execution_count": null,
      "outputs": [
        {
          "output_type": "stream",
          "name": "stdout",
          "text": [
            "+--------------------+-----+--------------------+-----------+----------+\n",
            "|            features|label|       rawPrediction|probability|prediction|\n",
            "+--------------------+-----+--------------------+-----------+----------+\n",
            "|[1.42,1270713.41,...|    0|[197.882123184313...|  [1.0,0.0]|       0.0|\n",
            "|[4.35,4136277.22,...|    0|[203.123961049005...|  [1.0,0.0]|       0.0|\n",
            "|[4.71,50198.0,502...|    0|[195.649719310453...|  [1.0,0.0]|       0.0|\n",
            "|[5.19,18104.0,181...|    0|[195.591036861907...|  [1.0,0.0]|       0.0|\n",
            "|[5.66,5061561.06,...|    0|[204.816556351575...|  [1.0,0.0]|       0.0|\n",
            "|[6.5,1696433.45,1...|    0|[198.661103852696...|  [1.0,0.0]|       0.0|\n",
            "|[8.29,20392.0,204...|    0|[195.595376584706...|  [1.0,0.0]|       0.0|\n",
            "|[9.02,2416260.59,...|    0|[199.977937889199...|  [1.0,0.0]|       0.0|\n",
            "|[9.22,7730148.9,7...|    0|[209.698117000385...|  [1.0,0.0]|       0.0|\n",
            "|[12.18,299322.0,2...|    0|[196.105789471215...|  [1.0,0.0]|       0.0|\n",
            "|[13.2,106204.0,10...|    0|[195.752588695936...|  [1.0,0.0]|       0.0|\n",
            "|[13.86,6868100.18...|    0|[208.121487996425...|  [1.0,0.0]|       0.0|\n",
            "|[15.59,1.64294897...|    0|[225.611275999490...|  [1.0,0.0]|       0.0|\n",
            "|[16.3,2.140511936...|    0|[234.712737805838...|  [1.0,0.0]|       0.0|\n",
            "|(7,[0,2,5],[16.89...|    0|[195.558504164448...|  [1.0,0.0]|       0.0|\n",
            "|[18.53,951352.78,...|    0|[197.298801242824...|  [1.0,0.0]|       0.0|\n",
            "|[20.34,991344.41,...|    0|[197.372043888083...|  [1.0,0.0]|       0.0|\n",
            "|[21.15,2729078.29...|    0|[200.550748886912...|  [1.0,0.0]|       0.0|\n",
            "|[21.57,104362.0,1...|    0|[195.749636488162...|  [1.0,0.0]|       0.0|\n",
            "|[22.81,875946.0,8...|    0|[197.161080713964...|  [1.0,0.0]|       0.0|\n",
            "+--------------------+-----+--------------------+-----------+----------+\n",
            "only showing top 20 rows\n",
            "\n"
          ]
        }
      ]
    },
    {
      "cell_type": "markdown",
      "source": [
        "Model Testing"
      ],
      "metadata": {
        "id": "mOeN1Fq7jXZN"
      }
    },
    {
      "cell_type": "code",
      "source": [
        "model = pipeline.fit(df_test)\n",
        "\n",
        "pp_df_test = model.transform(df_test)"
      ],
      "metadata": {
        "id": "rqT1g9zIizkO"
      },
      "execution_count": null,
      "outputs": []
    },
    {
      "cell_type": "code",
      "source": [
        "data_test = pp_df_test.select(\n",
        "    F.col(\"VectorAssembler_features\").alias(\"features\"),\n",
        "    F.col(\"isFraud\").alias(\"label\"),\n",
        ")"
      ],
      "metadata": {
        "id": "UfaYiyN-izho"
      },
      "execution_count": null,
      "outputs": []
    },
    {
      "cell_type": "code",
      "source": [
        "data_test.show(5, truncate=False)"
      ],
      "metadata": {
        "colab": {
          "base_uri": "https://localhost:8080/"
        },
        "id": "4c8q34lsizey",
        "outputId": "db80b60c-7320-423d-ea41-4009f8438173"
      },
      "execution_count": null,
      "outputs": [
        {
          "output_type": "stream",
          "name": "stdout",
          "text": [
            "+-----------------------+-----+\n",
            "|features               |label|\n",
            "+-----------------------+-----+\n",
            "|[119.0,119.0,0.0,1.0]  |1    |\n",
            "|[181.0,181.0,0.0,1.0]  |1    |\n",
            "|[215.83,215.83,0.0,1.0]|1    |\n",
            "|[636.0,636.0,0.0,1.0]  |1    |\n",
            "|[1055.0,1055.0,0.0,1.0]|1    |\n",
            "+-----------------------+-----+\n",
            "only showing top 5 rows\n",
            "\n"
          ]
        }
      ]
    },
    {
      "cell_type": "code",
      "source": [
        "model = LogisticRegression().fit(data_test)\n",
        "data=model.transform(data_test)\n",
        "data.show()"
      ],
      "metadata": {
        "colab": {
          "base_uri": "https://localhost:8080/"
        },
        "id": "An-kG0JYizb-",
        "outputId": "6eb8e103-abc5-4090-c205-9eea773f616a"
      },
      "execution_count": null,
      "outputs": [
        {
          "output_type": "stream",
          "name": "stdout",
          "text": [
            "+--------------------+-----+--------------------+-----------+----------+\n",
            "|            features|label|       rawPrediction|probability|prediction|\n",
            "+--------------------+-----+--------------------+-----------+----------+\n",
            "|[119.0,119.0,0.0,...|    1|[-Infinity,Infinity]|  [0.0,1.0]|       1.0|\n",
            "|[181.0,181.0,0.0,...|    1|[-Infinity,Infinity]|  [0.0,1.0]|       1.0|\n",
            "|[215.83,215.83,0....|    1|[-Infinity,Infinity]|  [0.0,1.0]|       1.0|\n",
            "|[636.0,636.0,0.0,...|    1|[-Infinity,Infinity]|  [0.0,1.0]|       1.0|\n",
            "|[1055.0,1055.0,0....|    1|[-Infinity,Infinity]|  [0.0,1.0]|       1.0|\n",
            "|[1842.0,1842.0,0....|    1|[-Infinity,Infinity]|  [0.0,1.0]|       1.0|\n",
            "|[2007.0,2007.0,0....|    1|[-Infinity,Infinity]|  [0.0,1.0]|       1.0|\n",
            "|[2806.0,2806.0,0....|    1|[-Infinity,Infinity]|  [0.0,1.0]|       1.0|\n",
            "|[4120.14,4120.14,...|    1|[-Infinity,Infinity]|  [0.0,1.0]|       1.0|\n",
            "|[4289.18,4289.18,...|    1|[-Infinity,Infinity]|  [0.0,1.0]|       1.0|\n",
            "|[7927.06,7927.06,...|    1|[-Infinity,Infinity]|  [0.0,1.0]|       1.0|\n",
            "|[8055.06,8055.06,...|    1|[-Infinity,Infinity]|  [0.0,1.0]|       1.0|\n",
            "|[8383.17,8383.17,...|    1|[-Infinity,Infinity]|  [0.0,1.0]|       1.0|\n",
            "|[9131.0,9131.0,0....|    1|[-Infinity,Infinity]|  [0.0,1.0]|       1.0|\n",
            "|[9217.19,9217.19,...|    1|[-Infinity,Infinity]|  [0.0,1.0]|       1.0|\n",
            "|[10119.47,10119.4...|    1|[-Infinity,Infinity]|  [0.0,1.0]|       1.0|\n",
            "|[10565.0,10565.0,...|    1|[-Infinity,Infinity]|  [0.0,1.0]|       1.0|\n",
            "|[11385.0,11385.0,...|    1|[-Infinity,Infinity]|  [0.0,1.0]|       1.0|\n",
            "|[14016.65,14016.6...|    1|[-Infinity,Infinity]|  [0.0,1.0]|       1.0|\n",
            "|[14949.84,14949.8...|    1|[-Infinity,Infinity]|  [0.0,1.0]|       1.0|\n",
            "+--------------------+-----+--------------------+-----------+----------+\n",
            "only showing top 20 rows\n",
            "\n"
          ]
        }
      ]
    },
    {
      "cell_type": "code",
      "source": [
        "df.limit"
      ],
      "metadata": {
        "colab": {
          "base_uri": "https://localhost:8080/",
          "height": 187
        },
        "id": "VVnWe6IvizZV",
        "outputId": "67f90a82-4841-4433-da6e-054a2d899c93"
      },
      "execution_count": null,
      "outputs": [
        {
          "output_type": "execute_result",
          "data": {
            "text/plain": [
              "<bound method DataFrame.limit of DataFrame[type: string, amount: double, oldbalanceOrg: double, newbalanceOrig: double, isFraud: int]>"
            ],
            "text/html": [
              "<div style=\"max-width:800px; border: 1px solid var(--colab-border-color);\"><style>\n",
              "      pre.function-repr-contents {\n",
              "        overflow-x: auto;\n",
              "        padding: 8px 12px;\n",
              "        max-height: 500px;\n",
              "      }\n",
              "\n",
              "      pre.function-repr-contents.function-repr-contents-collapsed {\n",
              "        cursor: pointer;\n",
              "        max-height: 100px;\n",
              "      }\n",
              "    </style>\n",
              "    <pre style=\"white-space: initial; background:\n",
              "         var(--colab-secondary-surface-color); padding: 8px 12px;\n",
              "         border-bottom: 1px solid var(--colab-border-color);\"><b>pyspark.sql.dataframe.DataFrame.limit</b><br/>def limit(num: int) -&gt; &#x27;DataFrame&#x27;</pre><pre class=\"function-repr-contents function-repr-contents-collapsed\" style=\"\"><a class=\"filepath\" style=\"display:none\" href=\"#\">/usr/local/lib/python3.10/dist-packages/pyspark/sql/dataframe.py</a>Limits the result count to the number specified.\n",
              "\n",
              ".. versionadded:: 1.3.0\n",
              "\n",
              ".. versionchanged:: 3.4.0\n",
              "    Supports Spark Connect.\n",
              "\n",
              "Parameters\n",
              "----------\n",
              "num : int\n",
              "    Number of records to return. Will return this number of records\n",
              "    or all records if the DataFrame contains less than this number of records.\n",
              "\n",
              "Returns\n",
              "-------\n",
              ":class:`DataFrame`\n",
              "    Subset of the records\n",
              "\n",
              "Examples\n",
              "--------\n",
              "&gt;&gt;&gt; df = spark.createDataFrame(\n",
              "...     [(14, &quot;Tom&quot;), (23, &quot;Alice&quot;), (16, &quot;Bob&quot;)], [&quot;age&quot;, &quot;name&quot;])\n",
              "&gt;&gt;&gt; df.limit(1).show()\n",
              "+---+----+\n",
              "|age|name|\n",
              "+---+----+\n",
              "| 14| Tom|\n",
              "+---+----+\n",
              "&gt;&gt;&gt; df.limit(0).show()\n",
              "+---+----+\n",
              "|age|name|\n",
              "+---+----+\n",
              "+---+----+</pre>\n",
              "      <script>\n",
              "      if (google.colab.kernel.accessAllowed && google.colab.files && google.colab.files.view) {\n",
              "        for (const element of document.querySelectorAll('.filepath')) {\n",
              "          element.style.display = 'block'\n",
              "          element.onclick = (event) => {\n",
              "            event.preventDefault();\n",
              "            event.stopPropagation();\n",
              "            google.colab.files.view(element.textContent, 1300);\n",
              "          };\n",
              "        }\n",
              "      }\n",
              "      for (const element of document.querySelectorAll('.function-repr-contents')) {\n",
              "        element.onclick = (event) => {\n",
              "          event.preventDefault();\n",
              "          event.stopPropagation();\n",
              "          element.classList.toggle('function-repr-contents-collapsed');\n",
              "        };\n",
              "      }\n",
              "      </script>\n",
              "      </div>"
            ]
          },
          "metadata": {},
          "execution_count": 51
        }
      ]
    },
    {
      "cell_type": "code",
      "source": [
        "model.summary.areaUnderROC"
      ],
      "metadata": {
        "colab": {
          "base_uri": "https://localhost:8080/"
        },
        "id": "evee_zi9j0eu",
        "outputId": "ff9295d6-1593-47ce-b41c-9b2e39453952"
      },
      "execution_count": null,
      "outputs": [
        {
          "output_type": "execute_result",
          "data": {
            "text/plain": [
              "1.0"
            ]
          },
          "metadata": {},
          "execution_count": 52
        }
      ]
    },
    {
      "cell_type": "code",
      "source": [
        "model.summary.pr.show()"
      ],
      "metadata": {
        "colab": {
          "base_uri": "https://localhost:8080/"
        },
        "id": "OWEjZnEqj5Cd",
        "outputId": "97d601a3-6c4c-42a9-c76f-b8786c62fc99"
      },
      "execution_count": null,
      "outputs": [
        {
          "output_type": "stream",
          "name": "stdout",
          "text": [
            "+------+---------+\n",
            "|recall|precision|\n",
            "+------+---------+\n",
            "|   0.0|      1.0|\n",
            "|   1.0|      1.0|\n",
            "+------+---------+\n",
            "\n"
          ]
        }
      ]
    }
  ]
}